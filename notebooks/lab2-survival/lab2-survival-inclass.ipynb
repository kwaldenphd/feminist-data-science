{
 "cells": [
  {
   "cell_type": "markdown",
   "metadata": {},
   "source": [
    "## Intersectional Survival Analysis ##\n",
    "\n",
    "*Lab adapted from an exercise by [Meredith Broussard](https://merbroussard.github.io/) in [Artificial Unintelligence](https://mitpress.mit.edu/books/artificial-unintelligence)*"
   ]
  },
  {
   "cell_type": "code",
   "execution_count": null,
   "metadata": {},
   "outputs": [],
   "source": [
    "# Libraries we need\n",
    "\n",
    "import pandas as pd # for dataframes\n",
    "import numpy as np  # for math\n",
    "from sklearn import tree, preprocessing # for our model"
   ]
  },
  {
   "cell_type": "code",
   "execution_count": null,
   "metadata": {},
   "outputs": [],
   "source": [
    "# Data we need--\n",
    "# We'll be using the training data and, if time, the testing data (pre-split) \n",
    "# associated with the Titanic disaster. It's in CSV format\n",
    "\n",
    "train_file = \"titanic_data/train.csv\"\n",
    "train_df = pd.read_csv(train_file)\n",
    "\n",
    "test_file = \"titanic_data/test.csv\"\n",
    "test_df = pd.read_csv(test_file)"
   ]
  },
  {
   "cell_type": "code",
   "execution_count": null,
   "metadata": {},
   "outputs": [],
   "source": [
    "# Let's take a look at the training data\n",
    "\n",
    "train_df.head()"
   ]
  },
  {
   "cell_type": "markdown",
   "metadata": {},
   "source": [
    "Some of the headers are self-explanatory, but some are not. \n",
    "\n",
    "For instance, what's `Parch`? \n",
    "\n",
    "Thanks to this dataset's [data dictionary](https://www.kaggle.com/c/titanic/data), we're able to determine the following:"
   ]
  },
  {
   "cell_type": "code",
   "execution_count": null,
   "metadata": {},
   "outputs": [],
   "source": [
    "# cell below just centers the table"
   ]
  },
  {
   "cell_type": "code",
   "execution_count": null,
   "metadata": {},
   "outputs": [],
   "source": [
    "%%html\n",
    "<style>\n",
    "table {float:left}\n",
    "</style>"
   ]
  },
  {
   "cell_type": "markdown",
   "metadata": {},
   "source": [
    "**Data Dictionary**\n",
    "\n",
    "| Variable  | Definition          | Key             | \n",
    "| :-------- | :------------------ | :-------------- |\n",
    "| survival  | Survival            | 0 = No, 1 = Yes | \n",
    "| pclass    | Ticket class        | 1 = 1st, 2 = 2nd, 3 = 3rd | \n",
    "| sex       | Sex                 |                           |\t\n",
    "| Age       | Age in years        |   |\n",
    "| sibsp     | # of siblings / spouses aboard the Titanic | \n",
    "| parch     | # of parents / children aboard the Titanic |\n",
    "| ticket    | Ticket number      | |\n",
    "| fare\t    | Passenger fare\t | |\n",
    "| cabin     | Cabin number\t     | |\n",
    "| embarked\t| Port of Embarkation|\tC = Cherbourg, Q = Queenstown, S = Southampton|"
   ]
  },
  {
   "cell_type": "markdown",
   "metadata": {},
   "source": [
    "**Additional Variable Notes**\n",
    "\n",
    "`pclass`: A proxy for socio-economic status (SES)\n",
    "1st = Upper; 2nd = Middle; 3rd = Lower\n",
    "\n",
    "`age`: Age is fractional if less than 1. If the age is estimated, is it in the form of xx.5\n",
    "\n",
    "`sibsp`: The dataset defines family relations in this way:\n",
    "\n",
    "Sibling = brother, sister, stepbrother, stepsister; Spouse = husband, wife (mistresses and fiancés were ignored)\n",
    "\n",
    "`parch`: The dataset defines family relations in this way:\n",
    "\n",
    "Parent = mother, father; Child = daughter, son, stepdaughter, stepson; Some children travelled only with a nanny, therefore parch=0 for them."
   ]
  },
  {
   "cell_type": "markdown",
   "metadata": {},
   "source": [
    "With this in mind, let's take a look at the first line of data and see if we can interpret it."
   ]
  },
  {
   "cell_type": "code",
   "execution_count": null,
   "metadata": {},
   "outputs": [],
   "source": [
    "train_df.loc[0]"
   ]
  },
  {
   "cell_type": "markdown",
   "metadata": {},
   "source": [
    "**What do each of these values mean?**"
   ]
  },
  {
   "cell_type": "code",
   "execution_count": null,
   "metadata": {},
   "outputs": [],
   "source": []
  },
  {
   "cell_type": "code",
   "execution_count": null,
   "metadata": {},
   "outputs": [],
   "source": []
  },
  {
   "cell_type": "code",
   "execution_count": null,
   "metadata": {},
   "outputs": [],
   "source": []
  },
  {
   "cell_type": "code",
   "execution_count": null,
   "metadata": {},
   "outputs": [],
   "source": [
    "# check out the test data\n",
    "\n",
    "test_df.head()"
   ]
  },
  {
   "cell_type": "markdown",
   "metadata": {},
   "source": [
    "**How is this different?**"
   ]
  },
  {
   "cell_type": "code",
   "execution_count": null,
   "metadata": {},
   "outputs": [],
   "source": []
  },
  {
   "cell_type": "code",
   "execution_count": null,
   "metadata": {},
   "outputs": [],
   "source": []
  },
  {
   "cell_type": "code",
   "execution_count": null,
   "metadata": {},
   "outputs": [],
   "source": []
  },
  {
   "cell_type": "markdown",
   "metadata": {},
   "source": [
    "Let's dig into our data a bit more by using the convenient `describe` function:\n",
    "\n",
    "Note that it excludes non-numeric datatypes."
   ]
  },
  {
   "cell_type": "code",
   "execution_count": null,
   "metadata": {},
   "outputs": [],
   "source": [
    "train_df.describe()"
   ]
  },
  {
   "cell_type": "markdown",
   "metadata": {},
   "source": [
    "**What does this tell us?**"
   ]
  },
  {
   "cell_type": "code",
   "execution_count": null,
   "metadata": {},
   "outputs": [],
   "source": []
  },
  {
   "cell_type": "code",
   "execution_count": null,
   "metadata": {},
   "outputs": [],
   "source": []
  },
  {
   "cell_type": "markdown",
   "metadata": {},
   "source": [
    "**What does it mean that the count of the \"Age\" column is lower than the rest?**\n",
    "\n",
    "**What does the mean of the \"Survived\" column tell us?**"
   ]
  },
  {
   "cell_type": "markdown",
   "metadata": {},
   "source": [
    "The `value_counts()` function can tell us a bit more:"
   ]
  },
  {
   "cell_type": "code",
   "execution_count": null,
   "metadata": {},
   "outputs": [],
   "source": [
    "train_df[\"Survived\"].value_counts()"
   ]
  },
  {
   "cell_type": "code",
   "execution_count": null,
   "metadata": {},
   "outputs": [],
   "source": []
  },
  {
   "cell_type": "code",
   "execution_count": null,
   "metadata": {},
   "outputs": [],
   "source": []
  },
  {
   "cell_type": "code",
   "execution_count": null,
   "metadata": {},
   "outputs": [],
   "source": []
  },
  {
   "cell_type": "markdown",
   "metadata": {},
   "source": [
    "**How many passengers died and how many survived?** \n",
    "\n",
    "Let's see those same numbers normalized:"
   ]
  },
  {
   "cell_type": "code",
   "execution_count": null,
   "metadata": {},
   "outputs": [],
   "source": [
    "train_df[\"Survived\"].value_counts(normalize=True) # note lowercase of \"True\" -- different than R! "
   ]
  },
  {
   "cell_type": "markdown",
   "metadata": {},
   "source": [
    "**If we were going to predict only on this metric, would we predict that a random person would survive or would die?**"
   ]
  },
  {
   "cell_type": "code",
   "execution_count": null,
   "metadata": {},
   "outputs": [],
   "source": []
  },
  {
   "cell_type": "code",
   "execution_count": null,
   "metadata": {},
   "outputs": [],
   "source": []
  },
  {
   "cell_type": "code",
   "execution_count": null,
   "metadata": {},
   "outputs": [],
   "source": []
  },
  {
   "cell_type": "markdown",
   "metadata": {},
   "source": [
    "But there were likely other factors at play on the ship.\n",
    "\n",
    "For example, the principle of \"women and children first\" was likely employed, to some degree, since it was a principle used during maritime disasters since at least the 1850s. \n",
    "\n",
    "So let's see if our intitution is correct, and that more women than men survived.\n",
    "\n",
    "First, let's see the gender breakdown on the ship:\n"
   ]
  },
  {
   "cell_type": "code",
   "execution_count": null,
   "metadata": {},
   "outputs": [],
   "source": [
    "train_df[\"Sex\"].value_counts()"
   ]
  },
  {
   "cell_type": "markdown",
   "metadata": {},
   "source": [
    "**How many men and how many women were on the ship?**\n",
    "\n",
    "Now we're going to use something called [boolean indexing](https://www.geeksforgeeks.org/boolean-indexing-in-pandas/) in order to select only the men on the ship, and then see how many of them survived and how many died:\n",
    "\n",
    "NOTE: If you want to learn more about boolean indexing and/or pandas (how Python handles dataframes), you can consult [these](https://github.com/laurenfklein/emory-qtm340/blob/master/notebooks/class13-pandas-complete.ipynb) [notebooks](https://github.com/laurenfklein/emory-qtm340/blob/master/notebooks/class14-pandas-in-action-complete.ipynb) from my Fall text as data course.\n"
   ]
  },
  {
   "cell_type": "code",
   "execution_count": null,
   "metadata": {},
   "outputs": [],
   "source": [
    "train_df[\"Survived\"][train_df[\"Sex\"] == 'male'].value_counts()"
   ]
  },
  {
   "cell_type": "markdown",
   "metadata": {},
   "source": [
    "**Of the men, how many died and how many survived?**\n",
    "\n",
    "Let's just normalize that so we get a percentage:"
   ]
  },
  {
   "cell_type": "code",
   "execution_count": null,
   "metadata": {},
   "outputs": [],
   "source": [
    "train_df[\"Survived\"][train_df[\"Sex\"] == 'male'].value_counts(normalize=True)"
   ]
  },
  {
   "cell_type": "markdown",
   "metadata": {},
   "source": [
    "**What percentage of men survived?**"
   ]
  },
  {
   "cell_type": "code",
   "execution_count": null,
   "metadata": {},
   "outputs": [],
   "source": [
    "# now let's look at the women:\n",
    "train_df[\"Survived\"][train_df[\"Sex\"] == 'female'].value_counts(normalize=True)"
   ]
  },
  {
   "cell_type": "markdown",
   "metadata": {},
   "source": [
    "**What does this tell us?**\n",
    "\n",
    "Note that the 1 and 0 is inverted from the above, since value_counts defaults to list the highest number first. \n"
   ]
  },
  {
   "cell_type": "markdown",
   "metadata": {},
   "source": [
    "**If we were going to manually fill out the \"Survived\" column in the test data with a prediction, what would we predict?**"
   ]
  },
  {
   "cell_type": "code",
   "execution_count": null,
   "metadata": {},
   "outputs": [],
   "source": []
  },
  {
   "cell_type": "markdown",
   "metadata": {},
   "source": [
    "**Now it's your turn. Check to see if pclass-- what the data dictionary describes as \"a proxy for socio-economic status\"-- turns out to matter for a person's probability of survival.**"
   ]
  },
  {
   "cell_type": "code",
   "execution_count": null,
   "metadata": {},
   "outputs": [],
   "source": [
    "# first, see what the values are\n",
    "train_df[\"Pclass\"].value_counts()"
   ]
  },
  {
   "cell_type": "code",
   "execution_count": null,
   "metadata": {},
   "outputs": [],
   "source": [
    "# now, modifying the code for gender (above), see how many of each SES survived, \n",
    "# and which SES has the best survival rate\n"
   ]
  },
  {
   "cell_type": "code",
   "execution_count": null,
   "metadata": {},
   "outputs": [],
   "source": []
  },
  {
   "cell_type": "code",
   "execution_count": null,
   "metadata": {},
   "outputs": [],
   "source": []
  },
  {
   "cell_type": "markdown",
   "metadata": {},
   "source": [
    "**What percentage of \"upper\", \"middle\", and \"lower\" class people survived?**"
   ]
  },
  {
   "cell_type": "markdown",
   "metadata": {},
   "source": [
    "**What would an intersectional approach to this data tell us to do next?**"
   ]
  },
  {
   "cell_type": "code",
   "execution_count": null,
   "metadata": {},
   "outputs": [],
   "source": [
    "\n",
    "\n"
   ]
  },
  {
   "cell_type": "code",
   "execution_count": null,
   "metadata": {},
   "outputs": [],
   "source": []
  },
  {
   "cell_type": "code",
   "execution_count": null,
   "metadata": {},
   "outputs": [],
   "source": []
  },
  {
   "cell_type": "markdown",
   "metadata": {},
   "source": [
    "There are many approaches to this type of question. Today, we're going to use a *decision tree* in order to build our model. \n",
    "\n",
    "A decision tree is popular type of predictive modeling algorithm. More specifially, it's a *supervised* machine learning model that is used to predict a target (in our case, whether a person survives or not) by learning *decision* rules from features (in our case specific columns in our dataset). One of the most helpful features of decision trees, for our purposes, is that it can tell us which features are most important for making the prediction.  \n",
    "\n",
    "Here's a helpful illustration of decision trees from Laurraine Li, over at *Towards Data Science*:\n",
    "\n",
    "![decision tree diagram](https://miro.medium.com/max/2000/1*WerHJ14JQAd3j8ASaVjAhw.jpeg)\n",
    "\n",
    "Based on the features that we specify from our training data, the decision tree model will ask (or \"learn\" in ML-speak) a series of questions to infer the class labels of the samples. As we can see, decision trees are attractive models if we care about interpretability.\n",
    "\n",
    "Although the diagram illustrates the concept of a decision tree based on categorical targets (classification), the same concept applies if our targets are real numbers (regression).\n",
    "\n",
    "If you want to learn more about decision trees, I'd recommend reading the rest of Li's article, \"[Classification and Regression Analysis with Decision Trees](https://towardsdatascience.com/https-medium-com-lorrli-classification-and-regression-analysis-with-decision-trees-c43cdbc58054)\"\n",
    "\n",
    "It's quite easy to implement a decision tree using Python's `sklearn` library. But before we see how easy, we need to fix one thing in our data....\n",
    "\n",
    "Remember that issue with the \"Age\" data? There was some missing, right?\n",
    "\n",
    "That will break our algorithm. So we have two choices:\n",
    "\n",
    "Exclude the people with missing ages, or make something up. \n",
    "\n",
    "So that you see how to do it, we're going to make something up. But we can talk about the implications of this later. "
   ]
  },
  {
   "cell_type": "code",
   "execution_count": null,
   "metadata": {},
   "outputs": [],
   "source": [
    "# assign any missing age the median age\n",
    "\n",
    "train_df[\"Age\"] = train_df[\"Age\"].fillna(train_df[\"Age\"].median())"
   ]
  },
  {
   "cell_type": "code",
   "execution_count": null,
   "metadata": {},
   "outputs": [],
   "source": [
    "# now we're ready to run our decision tree\n",
    "\n",
    "# first, create the target; remember, this is the prediction we're after\n",
    "\n",
    "target = train_df[\"Survived\"].values"
   ]
  },
  {
   "cell_type": "code",
   "execution_count": null,
   "metadata": {},
   "outputs": [],
   "source": [
    "# we also need to turn our \"Sex\" variable into a binary --\n",
    "# more on the problematic nature of the gender binary in a couple of classes!!!\n",
    "\n",
    "# define the transformation we're about to apply\n",
    "binary_sex = preprocessing.LabelEncoder()\n",
    "\n",
    "# fit and transform the data as defined above\n",
    "train_df[\"Sex\"] = binary_sex.fit_transform(train_df[\"Sex\"])"
   ]
  },
  {
   "cell_type": "code",
   "execution_count": null,
   "metadata": {},
   "outputs": [],
   "source": [
    "# pull out the features we want\n",
    "features = train_df[[\"Pclass\", \"Sex\", \"Age\", \"Fare\"]].values\n",
    "\n",
    "# instantiate and fit the decision tree\n",
    "my_dtree = tree.DecisionTreeClassifier()\n",
    "my_dtree.fit(features, target)\n",
    "\n",
    "# look at the importance and score of the included features\n",
    "\n",
    "my_dtree.feature_importances_"
   ]
  },
  {
   "cell_type": "markdown",
   "metadata": {},
   "source": [
    "Here's [an article that talks more about the math of calculating feature_importances](https://towardsdatascience.com/the-mathematics-of-decision-trees-random-forest-and-feature-importance-in-scikit-learn-and-spark-f2861df67e3). \n",
    "\n",
    "For now, just know that the higher the value, the more important the feature. Also, the feature_importances are listed in the order that the features are entered into the model. So in our case, \"Fare\" is most important, closely followed by \"Sex.\"\n",
    "\n",
    "Another metric we can take a look at is the mean accuracy, which tells you the percentage of correct predictions made. Sklearn also has this built in as the `score` function."
   ]
  },
  {
   "cell_type": "code",
   "execution_count": null,
   "metadata": {},
   "outputs": [],
   "source": [
    "my_dtree.score(features, target)"
   ]
  },
  {
   "cell_type": "markdown",
   "metadata": {},
   "source": [
    "**What is the accuracy of our model? Are you satisfied?**"
   ]
  },
  {
   "cell_type": "code",
   "execution_count": null,
   "metadata": {},
   "outputs": [],
   "source": []
  },
  {
   "cell_type": "code",
   "execution_count": null,
   "metadata": {},
   "outputs": [],
   "source": []
  },
  {
   "cell_type": "code",
   "execution_count": null,
   "metadata": {},
   "outputs": [],
   "source": []
  },
  {
   "cell_type": "markdown",
   "metadata": {},
   "source": [
    "**If time: apply our model to our test data--remember that batch of data that didn't have the \"Survived\" column.**"
   ]
  },
  {
   "cell_type": "code",
   "execution_count": null,
   "metadata": {},
   "outputs": [],
   "source": [
    "# fill in missing data\n",
    "\n",
    "test_df[\"Fare\"] = test_df[\"Fare\"].fillna(test_df[\"Fare\"].median())\n",
    "test_df[\"Age\"] = test_df[\"Age\"].fillna(test_df[\"Age\"].median())\n",
    "\n",
    "# convert the \"Sex\" column to numbers again; we can use the same encoder\n",
    "test_df[\"Sex\"] = binary_sex.fit_transform(test_df[\"Sex\"])"
   ]
  },
  {
   "cell_type": "code",
   "execution_count": null,
   "metadata": {},
   "outputs": [],
   "source": [
    "# pull out the features we want\n",
    "test_features = test_df[[\"Pclass\", \"Sex\", \"Age\", \"Fare\"]].values\n",
    "\n",
    "# make prediction\n",
    "my_prediction = my_dtree.predict(test_features)\n",
    "\n",
    "my_prediction"
   ]
  },
  {
   "cell_type": "code",
   "execution_count": null,
   "metadata": {},
   "outputs": [],
   "source": [
    "# cross reference w/ passenger id\n",
    "\n",
    "PassengerId= np.array(test_df[\"PassengerId\"]).astype(int)\n",
    "my_solution = pd.DataFrame(my_prediction, PassengerId, columns=[\"Survived\"])\n",
    "\n",
    "my_solution"
   ]
  },
  {
   "cell_type": "code",
   "execution_count": null,
   "metadata": {},
   "outputs": [],
   "source": []
  }
 ],
 "metadata": {
  "kernelspec": {
   "display_name": "Python 3",
   "language": "python",
   "name": "python3"
  },
  "language_info": {
   "codemirror_mode": {
    "name": "ipython",
    "version": 3
   },
   "file_extension": ".py",
   "mimetype": "text/x-python",
   "name": "python",
   "nbconvert_exporter": "python",
   "pygments_lexer": "ipython3",
   "version": "3.7.2"
  }
 },
 "nbformat": 4,
 "nbformat_minor": 2
}
